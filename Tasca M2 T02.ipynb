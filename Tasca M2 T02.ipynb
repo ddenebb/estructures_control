{
  "metadata": {
    "language_info": {
      "codemirror_mode": {
        "name": "python",
        "version": 3
      },
      "file_extension": ".py",
      "mimetype": "text/x-python",
      "name": "python",
      "nbconvert_exporter": "python",
      "pygments_lexer": "ipython3",
      "version": "3.8"
    },
    "kernelspec": {
      "name": "python",
      "display_name": "Python (Pyodide)",
      "language": "python"
    }
  },
  "nbformat_minor": 4,
  "nbformat": 4,
  "cells": [
    {
      "cell_type": "code",
      "source": "#Exercise1\nimport random\ngrade = round(random.uniform(0, 10), 2)\n#print(grade)\n#print('Data type of grade:', type(grade))\n\ndef marking(grade):\n    try:\n        if(grade >= 9):\n            print(\"Excel·lent\")\n        elif(grade >= 7):\n            print(\"Notable\")\n        elif(grade >= 5):\n            print(\"Aprovat\")\n        else:\n            print(\"Suspés\")\n    except:\n        print(\"Caracters numerics solament\")\n    \nmarking(grade)",
      "metadata": {
        "trusted": true
      },
      "execution_count": 3,
      "outputs": [
        {
          "name": "stdout",
          "text": "Suspés\n",
          "output_type": "stream"
        }
      ]
    },
    {
      "cell_type": "code",
      "source": "# Exercise2\n#x = random.randrange(100)\n#y = random.randrange(100)\n#print(x,y)\n\nx = input('Enter first number: ')\ny = input('Enter second number: ')\n\nprint('first number you entered:', x)\nprint('second number you entered:', y)\nprint('Data type of x:', type(x))\nprint('Data type of y:', type(y))\n\ndef compare_numbers(a,b):\n    if a > b:\n        print(\"First number is greater than second number\")\n    elif a < b:\n        print(\"First number is smaller than second number\")\n    else:\n        print(\"Numbers entered are equal\")\n        \ncompare_numbers(x,y)",
      "metadata": {
        "trusted": true
      },
      "execution_count": 6,
      "outputs": [
        {
          "name": "stdout",
          "text": "first number you entered: <Future pending>\nsecond number you entered: <Future pending>\nData type of x: <class 'asyncio.futures.Future'>\nData type of y: <class 'asyncio.futures.Future'>\n",
          "output_type": "stream"
        },
        {
          "ename": "<class 'TypeError'>",
          "evalue": "'>' not supported between instances of 'Future' and 'Future'",
          "traceback": [
            "\u001b[0;31m---------------------------------------------------------------------------\u001b[0m",
            "\u001b[0;31mTypeError\u001b[0m                                 Traceback (most recent call last)",
            "Cell \u001b[0;32mIn [6], line 22\u001b[0m\n\u001b[1;32m     19\u001b[0m     \u001b[38;5;28;01melse\u001b[39;00m:\n\u001b[1;32m     20\u001b[0m         \u001b[38;5;28mprint\u001b[39m(\u001b[38;5;124m\"\u001b[39m\u001b[38;5;124mNumbers entered are equal\u001b[39m\u001b[38;5;124m\"\u001b[39m)\n\u001b[0;32m---> 22\u001b[0m \u001b[43mcompare_numbers\u001b[49m\u001b[43m(\u001b[49m\u001b[43mx\u001b[49m\u001b[43m,\u001b[49m\u001b[43my\u001b[49m\u001b[43m)\u001b[49m\n",
            "Cell \u001b[0;32mIn [6], line 15\u001b[0m, in \u001b[0;36mcompare_numbers\u001b[0;34m(a, b)\u001b[0m\n\u001b[1;32m     14\u001b[0m \u001b[38;5;28;01mdef\u001b[39;00m \u001b[38;5;21mcompare_numbers\u001b[39m(a,b):\n\u001b[0;32m---> 15\u001b[0m     \u001b[38;5;28;01mif\u001b[39;00m \u001b[43ma\u001b[49m\u001b[43m \u001b[49m\u001b[38;5;241;43m>\u001b[39;49m\u001b[43m \u001b[49m\u001b[43mb\u001b[49m:\n\u001b[1;32m     16\u001b[0m         \u001b[38;5;28mprint\u001b[39m(\u001b[38;5;124m\"\u001b[39m\u001b[38;5;124mFirst number is greater than second number\u001b[39m\u001b[38;5;124m\"\u001b[39m)\n\u001b[1;32m     17\u001b[0m     \u001b[38;5;28;01melif\u001b[39;00m a \u001b[38;5;241m<\u001b[39m b:\n",
            "\u001b[0;31mTypeError\u001b[0m: '>' not supported between instances of 'Future' and 'Future'"
          ],
          "output_type": "error"
        }
      ]
    },
    {
      "cell_type": "code",
      "source": "# Exercise3\nnumber = random.randrange(20)\nname = 'Carlos'\nprint (number, name)\n\n#number = int(input('Enter number: '))\n#print('number you entered:', number)\n\ndef print_name_x_times(number):\n    if (number) > 0:\n        #name = input('Enter name: ')\n        for i in range(number):\n            print(name, end=' ')\n    else:\n        print(\"Error, number must be positive integer and NOT 0\")\n        \nprint_name_x_times(number)",
      "metadata": {
        "trusted": true
      },
      "execution_count": 7,
      "outputs": [
        {
          "name": "stdout",
          "text": "12 Carlos\nCarlos Carlos Carlos Carlos Carlos Carlos Carlos Carlos Carlos Carlos Carlos Carlos ",
          "output_type": "stream"
        }
      ]
    },
    {
      "cell_type": "code",
      "source": "# Exercise4\n#lista = \n\ndef symmetric(lista):\n    n = len(lista)\n    if lista == []:\n        return True\n    i = 0\n    if n != len(lista[0]):\n        return False\n    while i <= n-1:\n        j = 0\n        while j <= n-1:\n            if lista[i][j] != lista[j][i]:\n                return False\n            j = j + 1\n        i = i + 1\n    if True:\n        return(\"Symmetric list,number of elements are \"+ str(len(lista)))\n    elif False:\n        print(\"List not symmetric\")\n\nprint(symmetric([[1, 2, 3],\n                 [2, 3, 4],\n                 [3, 4, 1]]))\nprint(symmetric([['x', 'y', 'z'],\n                 ['y', 'y', 'z'],\n                 ['z', 'z', 'x']]))\nprint (symmetric([['cat', 'dog', 'fish'],\n                ['dog', 'dog', 'dog'],\n                ['fish','fish','cat']]))",
      "metadata": {
        "trusted": true
      },
      "execution_count": 66,
      "outputs": [
        {
          "name": "stdout",
          "text": "Symmetric list,number of elements are 3\nSymmetric list,number of elements are 3\nFalse\n",
          "output_type": "stream"
        }
      ]
    },
    {
      "cell_type": "code",
      "source": "def symmetric(lista):\n    answer = all(i==j for i,*j in zip(lista ,*lista))\n    if answer:\n        print(\"Symmetric list,number of elements are \"+ str(len(lista)))\n    else:\n        print(\"List not symmetric\")\nsymmetric([[1, 2, 3, 4],\n           [2, 3, 4, 1],\n           [3, 4, 1, 2],\n           [4, 1, 2, 3]])\nsymmetric([['x', 'y', 'z'],\n           ['y', 'y', 'z'],\n           ['z', 'z', 'x']])\nsymmetric([['cat', 'dog', 'fish'],\n           ['dog', 'dog', 'dog'],\n           ['fish','fish','cat']])",
      "metadata": {
        "trusted": true
      },
      "execution_count": 79,
      "outputs": [
        {
          "name": "stdout",
          "text": "Symmetric list,number of elements are 4\nSymmetric list,number of elements are 3\nList not symmetric\n",
          "output_type": "stream"
        }
      ]
    },
    {
      "cell_type": "code",
      "source": "# Exercise5\nimport random\nlista = random.sample(range(1, 100), 99)\n\n#lista = [3,4,2,0,2,3,6]\n\ndef value_and_index_match_list(lista):\n    for index, value in enumerate(lista):\n        if index == value:\n            print(\"Index\",index, \"matches value\", value)\n\nvalue_and_index_match_list(lista)\n    ",
      "metadata": {
        "trusted": true
      },
      "execution_count": 36,
      "outputs": [
        {
          "name": "stdout",
          "text": "Index 36 matches value 36\n",
          "output_type": "stream"
        }
      ]
    },
    {
      "cell_type": "code",
      "source": "",
      "metadata": {},
      "execution_count": null,
      "outputs": []
    }
  ]
}