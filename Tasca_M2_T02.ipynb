{
  "nbformat": 4,
  "nbformat_minor": 0,
  "metadata": {
    "colab": {
      "provenance": [],
      "authorship_tag": "ABX9TyPXC/q8/iD3HXtBpdwVEBCI",
      "include_colab_link": true
    },
    "kernelspec": {
      "name": "python3",
      "display_name": "Python 3"
    },
    "language_info": {
      "name": "python"
    }
  },
  "cells": [
    {
      "cell_type": "markdown",
      "metadata": {
        "id": "view-in-github",
        "colab_type": "text"
      },
      "source": [
        "<a href=\"https://colab.research.google.com/github/ddenebb/estructures_control/blob/main/Tasca_M2_T02.ipynb\" target=\"_parent\"><img src=\"https://colab.research.google.com/assets/colab-badge.svg\" alt=\"Open In Colab\"/></a>"
      ]
    },
    {
      "cell_type": "markdown",
      "source": [
        "### Exercise 1\n",
        "\n",
        "Create a program that classifies with a numerical variable based on following scale.\n",
        "\n",
        "Scale reference:\n",
        "Fail < 5\n",
        "Pass > 5 and < 7\n",
        "Notable > 7 and < 9\n",
        "Excellent > 9"
      ],
      "metadata": {
        "id": "XCg0IxTCCpUA"
      }
    },
    {
      "cell_type": "code",
      "source": [
        "#Exercise1\n",
        "import random\n",
        "grade = round(random.uniform(0, 10), 2)\n",
        "#print(grade)\n",
        "#print('Data type of grade:', type(grade))\n",
        "\n",
        "def marking(grade):\n",
        "    try:\n",
        "        if(grade >= 9):\n",
        "            print(\"Excellent\")\n",
        "        elif(grade >= 7):\n",
        "            print(\"Notable\")\n",
        "        elif(grade >= 5):\n",
        "            print(\"Pass\")\n",
        "        else:\n",
        "            print(\"Fail\")\n",
        "    except:\n",
        "        print(\"Only numeric charcters please\")\n",
        "    \n",
        "marking(grade)"
      ],
      "metadata": {
        "colab": {
          "base_uri": "https://localhost:8080/"
        },
        "id": "1O873zFCA--H",
        "outputId": "c2de8c0d-eb98-4387-d0d4-3fd3dd1539ca"
      },
      "execution_count": 18,
      "outputs": [
        {
          "output_type": "stream",
          "name": "stdout",
          "text": [
            "Fail\n"
          ]
        }
      ]
    },
    {
      "cell_type": "markdown",
      "source": [
        "### Exercise 2\n",
        "\n",
        "Create a program that prompts you for two numbers. It should show  a message saying if the first is bigger, the second is bigger or they are equal."
      ],
      "metadata": {
        "id": "7osb2txAFihB"
      }
    },
    {
      "cell_type": "code",
      "execution_count": 20,
      "metadata": {
        "colab": {
          "base_uri": "https://localhost:8080/"
        },
        "id": "4aPwNecq-InW",
        "outputId": "c79db546-efc8-4794-bbd6-1637efdd505f"
      },
      "outputs": [
        {
          "output_type": "stream",
          "name": "stdout",
          "text": [
            "Enter first number: 5\n",
            "Enter second number: 9\n",
            "first number you entered:5\n",
            "second number you entered:9\n",
            "Second number is bigger than first number\n"
          ]
        }
      ],
      "source": [
        "# Exercise2\n",
        "\n",
        "x =  input('Enter first number: ')\n",
        "y =  input('Enter second number: ')\n",
        "\n",
        "print('first number you entered:' + str(x))\n",
        "print('second number you entered:' + str(y))\n",
        "\n",
        "def compare_numbers(a,b):\n",
        "    if a > b:\n",
        "        print(\"First number is bigger than second number\")\n",
        "    elif a < b:\n",
        "        print(\"Second number is bigger than first number\")\n",
        "    else:\n",
        "        print(\"Numbers entered are equal\")\n",
        "        \n",
        "compare_numbers(x,y)"
      ]
    },
    {
      "cell_type": "markdown",
      "source": [
        "### Exercise 3\n",
        "\n",
        "Create a program that asks for your name and a number. If the number is 0, it should display an error message. Otherwise, it should show the name repeated as many times as the number. For example, for number 3: \"John John John\"."
      ],
      "metadata": {
        "id": "DQ60Yop6HUsW"
      }
    },
    {
      "cell_type": "code",
      "source": [
        "# Exercise3\n",
        "number = random.randrange(20)\n",
        "name = 'Carlos'\n",
        "print (number, name)\n",
        "\n",
        "#number = int(input('Enter number: '))\n",
        "#print('number you entered:', number)\n",
        "\n",
        "def print_name_x_times(number):\n",
        "    if (number) > 0:\n",
        "        #name = input('Enter name: ')\n",
        "        for i in range(number):\n",
        "            print(name, end=' ')\n",
        "    else:\n",
        "        print(\"Error, number must be positive integer and NOT 0\")\n",
        "        \n",
        "print_name_x_times(number)"
      ],
      "metadata": {
        "colab": {
          "base_uri": "https://localhost:8080/"
        },
        "id": "O1k6mQw0A9le",
        "outputId": "5339fc1a-cff2-4046-a3c8-4feab18c690c"
      },
      "execution_count": 6,
      "outputs": [
        {
          "output_type": "stream",
          "name": "stdout",
          "text": [
            "10 Carlos\n",
            "Carlos Carlos Carlos Carlos Carlos Carlos Carlos Carlos Carlos Carlos "
          ]
        }
      ]
    },
    {
      "cell_type": "markdown",
      "source": [
        "### Exercise 4\n",
        "\n",
        "Create a program that, given any list, returns whether it is symmetric or not. If it is, it should return how many elements it has."
      ],
      "metadata": {
        "id": "OeAobdVfHo0i"
      }
    },
    {
      "cell_type": "code",
      "source": [
        "# Exercise4\n",
        "def is_symmetric(lista):\n",
        "    answer = all(i==j for i,*j in zip(lista ,*lista))\n",
        "    if answer:\n",
        "        print(\"Symmetric list, number of elements are \"+ str(len(lista)))\n",
        "    else:\n",
        "        print(\"List not symmetric\")\n",
        "is_symmetric([[1, 2, 3, 4],\n",
        "              [2, 3, 4, 1],\n",
        "              [3, 4, 1, 2],\n",
        "              [4, 1, 2, 3]])\n",
        "is_symmetric([['x', 'y', 'z'],\n",
        "              ['y', 'y', 'z'],\n",
        "              ['z', 'z', 'x']])\n",
        "is_symmetric([['cat', 'dog', 'fish'],\n",
        "              ['dog', 'dog', 'dog'],\n",
        "              ['fish','fish','cat']])"
      ],
      "metadata": {
        "colab": {
          "base_uri": "https://localhost:8080/"
        },
        "id": "mmDKaYHXBcLM",
        "outputId": "cfe005c0-efe6-4929-9c93-00696be2d425"
      },
      "execution_count": 21,
      "outputs": [
        {
          "output_type": "stream",
          "name": "stdout",
          "text": [
            "Symmetric list, number of elements are 4\n",
            "Symmetric list, number of elements are 3\n",
            "List not symmetric\n"
          ]
        }
      ]
    },
    {
      "cell_type": "markdown",
      "source": [
        "### Exercise 5\n",
        "\n",
        "Create a program that, given a list, tells you how many numbers match its position. For example [3,4,2,0,2,3,6] 2 and 6 match."
      ],
      "metadata": {
        "id": "W-aDU3YYIlKA"
      }
    },
    {
      "cell_type": "code",
      "source": [
        "# Exercise5\n",
        "\n",
        "lista = random.sample(range(1, 10), 9)\n",
        "#lista = [3,4,2,0,2,3,6]\n",
        "\n",
        "def value_and_index_match_list(lista):\n",
        "    for index, value in enumerate(lista):\n",
        "        if index == value:\n",
        "            print(\"Index\",index, \"matches value\", value)\n",
        "\n",
        "value_and_index_match_list(lista)"
      ],
      "metadata": {
        "colab": {
          "base_uri": "https://localhost:8080/"
        },
        "id": "j__gxl6FBfht",
        "outputId": "c0d3cabe-8572-424f-af4c-4e9b07895c4b"
      },
      "execution_count": 36,
      "outputs": [
        {
          "output_type": "stream",
          "name": "stdout",
          "text": [
            "Index 6 matches value 6\n"
          ]
        }
      ]
    }
  ]
}